{
 "cells": [
  {
   "cell_type": "code",
   "execution_count": 1,
   "metadata": {},
   "outputs": [
    {
     "name": "stdout",
     "output_type": "stream",
     "text": [
      "Model: \"sequential\"\n",
      "_________________________________________________________________\n",
      " Layer (type)                Output Shape              Param #   \n",
      "=================================================================\n",
      " vgg16 (Functional)          (None, 22, 15, 512)       14714688  \n",
      "                                                                 \n",
      " flatten (Flatten)           (None, 168960)            0         \n",
      "                                                                 \n",
      " dense (Dense)               (None, 330)               55757130  \n",
      "                                                                 \n",
      " dropout (Dropout)           (None, 330)               0         \n",
      "                                                                 \n",
      " dense_1 (Dense)             (None, 165)               54615     \n",
      "                                                                 \n",
      " dropout_1 (Dropout)         (None, 165)               0         \n",
      "                                                                 \n",
      " dense_2 (Dense)             (None, 2)                 332       \n",
      "                                                                 \n",
      "=================================================================\n",
      "Total params: 70,526,765\n",
      "Trainable params: 55,812,077\n",
      "Non-trainable params: 14,714,688\n",
      "_________________________________________________________________\n"
     ]
    }
   ],
   "source": [
    "import tensorflow as tf\n",
    "models = tf.keras.models\n",
    "layers = tf.keras.layers\n",
    "VGG16 = tf.keras.applications.VGG16 # 기존 학습된 모델\n",
    "\n",
    "model = models.Sequential()\n",
    "\n",
    "transfer_model = VGG16(weights='imagenet', include_top=False, input_shape=(720, 480, 3)) # 전이학습: 시퀀스 중간에 넣을때는 include_top=False\n",
    "transfer_model.trainable = False # 해당 모델은 가중치를 변경하지 않음 == False\n",
    "model.add(transfer_model) #(None, 22, 15, 512) \n",
    "model.add(layers.Flatten()) # 1차원으로 변형\n",
    "model.add(layers.Dense(330, activation='relu'))\n",
    "model.add(layers.Dropout(0.5)) # 드롭아웃 50%\n",
    "model.add(layers.Dense(330//2, activation='relu'))\n",
    "model.add(layers.Dropout(0.1)) # 드롭아웃 10%\n",
    "model.add(layers.Dense(2, activation='softmax'))  #vgg가 분류인가? # 이진 분류이므로 sigmoid 사용\n",
    "# 모델 컴파일\n",
    "model.compile(optimizer='adam',\n",
    "              loss='sparse_categorical_crossentropy',\n",
    "              metrics=['accuracy'])\n",
    "\n",
    "model.summary()\n",
    "\n"
   ]
  },
  {
   "cell_type": "code",
   "execution_count": 3,
   "metadata": {},
   "outputs": [
    {
     "name": "stdout",
     "output_type": "stream",
     "text": [
      "Found 1152 images belonging to 2 classes.\n",
      "Found 290 images belonging to 2 classes.\n",
      "Epoch 1/5\n",
      "1152/1152 [==============================] - 71s 61ms/step - loss: 0.1808 - accuracy: 0.9566 - val_loss: 0.1934 - val_accuracy: 0.9517\n",
      "Epoch 2/5\n",
      "1152/1152 [==============================] - 71s 62ms/step - loss: 0.1799 - accuracy: 0.9566 - val_loss: 0.1938 - val_accuracy: 0.9517\n",
      "Epoch 3/5\n",
      "1152/1152 [==============================] - 70s 61ms/step - loss: 0.1805 - accuracy: 0.9566 - val_loss: 0.1936 - val_accuracy: 0.9517\n",
      "Epoch 4/5\n",
      "1152/1152 [==============================] - 71s 62ms/step - loss: 0.3388 - accuracy: 0.9557 - val_loss: 0.1940 - val_accuracy: 0.9517\n",
      "Epoch 5/5\n",
      "1152/1152 [==============================] - 71s 62ms/step - loss: 0.1794 - accuracy: 0.9566 - val_loss: 0.1935 - val_accuracy: 0.9517\n"
     ]
    }
   ],
   "source": [
    "from IPython.display import clear_output\n",
    "import pandas as pd\n",
    "import matplotlib.pyplot as plt\n",
    "import matplotlib\n",
    "matplotlib.rc('font', family='gulim')\n",
    "history_df = pd.DataFrame()\n",
    "\n",
    "from tensorflow.keras.callbacks import EarlyStopping\n",
    "from tensorflow.keras.preprocessing.image import ImageDataGenerator\n",
    "\n",
    "train_datagen = ImageDataGenerator(rescale=1./255,          # 주어진 이미지의 크기를 설정합니다.\n",
    "                                  horizontal_flip=True,     # 수평 대칭 이미지를 50% 확률로 만들어 추가합니다.\n",
    "                                  width_shift_range=0.1,    # 전체 크기의 15% 범위에서 좌우로 이동합니다.\n",
    "                                  height_shift_range=0.1,   # 마찬가지로 위, 아래로 이동합니다.\n",
    "                                  rotation_range=5,        # 정해진 각도만큼 회전시킵니다.\n",
    "                                  #shear_range=0.7,         # 좌표 하나를 고정시키고 나머지를 이동시킵니다.\n",
    "                                  zoom_range=0.05,          # 확대 또는 축소시킵니다.\n",
    "                                  #vertical_flip=True,      # 수직 대칭 이미지를 만듭니다.\n",
    "                                  fill_mode='nearest'      # 빈 공간을 채우는 방법입니다. nearest 옵션은 가장 비슷한 색으로 채우게 됩니다.\n",
    "                                  )    \n",
    "\n",
    "train_generator = train_datagen.flow_from_directory(\n",
    "       r'C:\\source\\kamp_ex\\train',\n",
    "       target_size=(720, 480),\n",
    "       batch_size=1,\n",
    "       class_mode='binary')\n",
    "\n",
    "test_datagen = ImageDataGenerator(rescale=1./255)\n",
    "\n",
    "test_generator = test_datagen.flow_from_directory(\n",
    "       r'C:\\source\\kamp_ex\\test',\n",
    "       target_size=(720, 480),\n",
    "       batch_size=1,\n",
    "       class_mode='binary')\n",
    "\n",
    "history = model.fit(\n",
    "    train_generator,\n",
    "    epochs=5,\n",
    "    validation_data=test_generator,\n",
    "#     validation_steps=10 \n",
    "    # callbacks=[early_stopping_callback]\n",
    ")\n",
    "\n"
   ]
  },
  {
   "cell_type": "code",
   "execution_count": 4,
   "metadata": {},
   "outputs": [],
   "source": [
    "model.save('C:\\source\\learning_kamp_vgg16.keras')"
   ]
  },
  {
   "cell_type": "code",
   "execution_count": 25,
   "metadata": {},
   "outputs": [
    {
     "name": "stdout",
     "output_type": "stream",
     "text": [
      "{'loss': [1.4689491987228394], 'accuracy': [0.9244791865348816], 'val_loss': [0.4212516248226166], 'val_accuracy': [0.9565972089767456]} <keras.callbacks.History object at 0x0000016616B37D88>\n"
     ]
    },
    {
     "data": {
      "image/png": "[encoded data removed]",
      "text/plain": [
       "<Figure size 640x480 with 1 Axes>"
      ]
     },
     "metadata": {},
     "output_type": "display_data"
    }
   ],
   "source": [
    "import seaborn as sns\n",
    "sns.scatterplot(history.history)\n",
    "print(history.history, history)"
   ]
  }
 ],
 "metadata": {
  "kernelspec": {
   "display_name": "Python 3",
   "language": "python",
   "name": "python3"
  },
  "language_info": {
   "codemirror_mode": {
    "name": "ipython",
    "version": 3
   },
   "file_extension": ".py",
   "mimetype": "text/x-python",
   "name": "python",
   "nbconvert_exporter": "python",
   "pygments_lexer": "ipython3",
   "version": "3.7.9"
  }
 },
 "nbformat": 4,
 "nbformat_minor": 2
}
