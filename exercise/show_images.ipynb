{
 "cells": [
  {
   "cell_type": "code",
   "execution_count": 3,
   "metadata": {},
   "outputs": [],
   "source": [
    "import sys\n",
    "import os\n",
    "\n",
    "# 현재 파이썬 세션에서만 유효\n",
    "# sys.path.append(r'C:\\source\\kamp_ex')\n",
    "\n",
    "\n",
    "# 이미지가 저장된 폴더 경로\n",
    "folder_path = r'C:\\Users\\hungh\\Downloads\\Dataset_품질 이상탐지 진단(크로메이트) AI 데이터셋\\data\\resized\\학습\\불량'  # 여기에 폴더 경로를 입력하세요.\n",
    "\n",
    "# 폴더 내 모든 이미지 파일 이름을 가져옵니다.\n",
    "image_files = [f for f in os.listdir(folder_path) if f.endswith(('.png', '.jpg', '.jpeg', '.bmp'))]\n",
    "\n",
    "# 이미지 파일 이름을 정렬하여 순서대로 재생합니다.\n",
    "image_files.sort()\n",
    "\n",
    "for image_file in image_files:\n",
    "    # 이미지 파일 경로\n",
    "    image_path = os.path.join(folder_path, image_file)\n",
    "    \n",
    "    # 이미지를 읽어옵니다.\n",
    "    image = cv.imread(image_path)\n",
    "    \n",
    "    # 이미지가 제대로 로드되었는지 확인합니다.\n",
    "    if image is None:\n",
    "        print(f\"Error loading image {image_file}\")\n",
    "        continue\n",
    "    \n",
    "    # 이미지를 화면에 표시합니다.\n",
    "    cv.imshow('Image Slideshow', image)\n",
    "    x, y = get_center_by_image(image)\n",
    "    cv.namedWindow('Image Slideshow', cv.WINDOW_NORMAL) #namedWindow, moveWindow 조합일 경우 앞단으로 이동하면서 바로 보임\n",
    "    cv.moveWindow('Image Slideshow', x, y)\n",
    "    # 1000 밀리초 (1초) 동안 이미지 표시\n",
    "    key = cv.waitKey(1000)\n",
    "    \n",
    "    # 'q' 키를 누르면 슬라이드 쇼를 종료합니다.\n",
    "    if key == ord('q'):\n",
    "        break\n",
    "\n",
    "# 모든 창을 닫습니다.\n",
    "cv.destroyAllWindows()\n"
   ]
  },
  {
   "cell_type": "code",
   "execution_count": 1,
   "metadata": {},
   "outputs": [
    {
     "data": {
      "text/plain": [
       "['c:\\\\source\\\\kamp_ex\\\\exercise',\n",
       " 'c:\\\\source\\\\kamp_ex\\\\exercise',\n",
       " 'C:\\\\source\\\\sixtick',\n",
       " 'C:\\\\Users\\\\hungh\\\\AppData\\\\Local\\\\Programs\\\\Python\\\\Python37\\\\python37.zip',\n",
       " 'C:\\\\Users\\\\hungh\\\\AppData\\\\Local\\\\Programs\\\\Python\\\\Python37\\\\DLLs',\n",
       " 'C:\\\\Users\\\\hungh\\\\AppData\\\\Local\\\\Programs\\\\Python\\\\Python37\\\\lib',\n",
       " 'C:\\\\Users\\\\hungh\\\\AppData\\\\Local\\\\Programs\\\\Python\\\\Python37',\n",
       " 'c:\\\\Users\\\\hungh\\\\AppData\\\\Local\\\\Programs\\\\Python\\\\Python37\\\\py3_7_9_tfgpu',\n",
       " '',\n",
       " 'c:\\\\Users\\\\hungh\\\\AppData\\\\Local\\\\Programs\\\\Python\\\\Python37\\\\py3_7_9_tfgpu\\\\lib\\\\site-packages',\n",
       " 'c:\\\\Users\\\\hungh\\\\AppData\\\\Local\\\\Programs\\\\Python\\\\Python37\\\\py3_7_9_tfgpu\\\\lib\\\\site-packages\\\\win32',\n",
       " 'c:\\\\Users\\\\hungh\\\\AppData\\\\Local\\\\Programs\\\\Python\\\\Python37\\\\py3_7_9_tfgpu\\\\lib\\\\site-packages\\\\win32\\\\lib',\n",
       " 'c:\\\\Users\\\\hungh\\\\AppData\\\\Local\\\\Programs\\\\Python\\\\Python37\\\\py3_7_9_tfgpu\\\\lib\\\\site-packages\\\\Pythonwin',\n",
       " 'c:\\\\Users\\\\hungh\\\\AppData\\\\Local\\\\Programs\\\\Python\\\\Python37\\\\py3_7_9_tfgpu\\\\lib\\\\site-packages\\\\IPython\\\\extensions',\n",
       " 'C:\\\\Users\\\\hungh\\\\.ipython']"
      ]
     },
     "execution_count": 1,
     "metadata": {},
     "output_type": "execute_result"
    }
   ],
   "source": [
    "import sys\n",
    "sys.path"
   ]
  }
 ],
 "metadata": {
  "kernelspec": {
   "display_name": "Python 3",
   "language": "python",
   "name": "python3"
  },
  "language_info": {
   "codemirror_mode": {
    "name": "ipython",
    "version": 3
   },
   "file_extension": ".py",
   "mimetype": "text/x-python",
   "name": "python",
   "nbconvert_exporter": "python",
   "pygments_lexer": "ipython3",
   "version": "3.7.9"
  }
 },
 "nbformat": 4,
 "nbformat_minor": 2
}
