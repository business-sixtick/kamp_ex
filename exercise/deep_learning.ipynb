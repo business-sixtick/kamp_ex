{
 "cells": [
  {
   "cell_type": "code",
   "execution_count": 1,
   "metadata": {},
   "outputs": [],
   "source": [
    "import tensorflow as tf"
   ]
  },
  {
   "cell_type": "code",
   "execution_count": 2,
   "metadata": {},
   "outputs": [],
   "source": [
    "models = tf.keras.models\n",
    "layers = tf.keras.layers"
   ]
  },
  {
   "cell_type": "code",
   "execution_count": null,
   "metadata": {},
   "outputs": [],
   "source": []
  },
  {
   "cell_type": "code",
   "execution_count": 3,
   "metadata": {},
   "outputs": [
    {
     "name": "stderr",
     "output_type": "stream",
     "text": [
      "c:\\Users\\hungh\\AppData\\Local\\Programs\\Python\\Python312\\Lib\\site-packages\\keras\\src\\layers\\convolutional\\base_conv.py:107: UserWarning: Do not pass an `input_shape`/`input_dim` argument to a layer. When using Sequential models, prefer using an `Input(shape)` object as the first layer in the model instead.\n",
      "  super().__init__(activity_regularizer=activity_regularizer, **kwargs)\n"
     ]
    }
   ],
   "source": [
    "model = models.Sequential()\n",
    "\n",
    "# Conv Layer 1\n",
    "model.add(layers.Conv2D(32, (3, 3), activation='relu', input_shape=(720, 480, 1)))\n",
    "model.add(layers.MaxPooling2D((2, 2)))\n",
    "\n",
    "# Conv Layer 2\n",
    "model.add(layers.Conv2D(64, (3, 3), activation='relu'))\n",
    "model.add(layers.MaxPooling2D((2, 2)))\n",
    "\n",
    "# Conv Layer 3\n",
    "model.add(layers.Conv2D(128, (3, 3), activation='relu'))\n",
    "model.add(layers.MaxPooling2D((2, 2)))\n",
    "\n",
    "# Conv Layer 4\n",
    "model.add(layers.Conv2D(128, (3, 3), activation='relu'))\n",
    "model.add(layers.MaxPooling2D((2, 2)))\n",
    "\n",
    "# Flattening the layers\n",
    "model.add(layers.Flatten())\n",
    "\n",
    "# Fully Connected Layer\n",
    "model.add(layers.Dense(720, activation='relu'))\n",
    "\n",
    "# Output Layer\n",
    "model.add(layers.Dense(1, activation='sigmoid'))  # 이진 분류이므로 sigmoid 사용\n",
    "\n",
    "# 모델 컴파일\n",
    "model.compile(optimizer='adam',\n",
    "              loss='binary_crossentropy',\n",
    "              metrics=['accuracy'])\n",
    "\n"
   ]
  },
  {
   "cell_type": "code",
   "execution_count": 4,
   "metadata": {},
   "outputs": [
    {
     "name": "stdout",
     "output_type": "stream",
     "text": [
      "sixtick\n",
      "\tpytyon\n",
      "\t\teasy.py\n",
      "easy.py loaded\n"
     ]
    }
   ],
   "source": [
    "import sixtick.python.easy as s\n",
    "image_path_arr = ['../image/KEMP_IMG_DATA_1.png', '../image/KEMP_IMG_DATA_Error_2.png', '../image/KEMP_IMG_DATA_Error_12.png']\n",
    "image_arr_weight = [8,1,1]\n",
    "path = s.sample(image_path_arr, 1, counts=image_arr_weight)\n",
    "x_train = []\n",
    "y_train = []\n",
    "for i in range(20):\n",
    "    path = s.sample(image_path_arr, 1, counts=image_arr_weight)[0]\n",
    "    isok = not 'Error' in path \n",
    "    x_train.append(s.cv.imread(path, s.cv.IMREAD_GRAYSCALE))\n",
    "    y_train.append(isok)\n",
    "x_train = s.np.array(x_train)\n",
    "y_train = s.np.array(y_train)\n",
    "\n",
    "x_val = []\n",
    "y_val = []\n",
    "for i in range(10):\n",
    "    path = s.sample(image_path_arr, 1, counts=image_arr_weight)[0]\n",
    "    isok = not 'Error' in path \n",
    "    x_val.append(s.cv.imread(path, s.cv.IMREAD_GRAYSCALE))\n",
    "    y_val.append(isok)\n",
    "x_val = s.np.array(x_val)\n",
    "y_val = s.np.array(y_val)\n"
   ]
  },
  {
   "cell_type": "code",
   "execution_count": 7,
   "metadata": {},
   "outputs": [
    {
     "name": "stdout",
     "output_type": "stream",
     "text": [
      "sixtick\n",
      "\tpytyon\n",
      "\t\teasy.py\n",
      "easy.py loaded\n"
     ]
    }
   ],
   "source": [
    "import sixtick.python.easy as s\n",
    "def get_train_data_kemp() :\n",
    "    image_path_arr = ['../image/KEMP_IMG_DATA_1.png', '../image/KEMP_IMG_DATA_Error_2.png', '../image/KEMP_IMG_DATA_Error_12.png']\n",
    "    image_arr_weight = [8,1,1]\n",
    "    path = s.sample(image_path_arr, 1, counts=image_arr_weight)[0]\n",
    "    x_train = s.cv.imread(path, s.cv.IMREAD_GRAYSCALE)\n",
    "    y_train = not 'Error' in path\n",
    "    return x_train.reshape(-1, 720, 480), s.np.array([y_train]) #s.np.array([int(y_train)])\n"
   ]
  },
  {
   "cell_type": "code",
   "execution_count": 30,
   "metadata": {},
   "outputs": [
    {
     "data": {
      "text/plain": [
       "(1,)"
      ]
     },
     "execution_count": 30,
     "metadata": {},
     "output_type": "execute_result"
    }
   ],
   "source": [
    "x, y =  get_train_data_kemp()\n",
    "x.reshape(-1, 720,480).shape\n",
    "y.shape"
   ]
  },
  {
   "cell_type": "code",
   "execution_count": 31,
   "metadata": {},
   "outputs": [
    {
     "name": "stdout",
     "output_type": "stream",
     "text": [
      "\u001b[1m1/1\u001b[0m \u001b[32m━━━━━━━━━━━━━━━━━━━━\u001b[0m\u001b[37m\u001b[0m \u001b[1m4s\u001b[0m 4s/step - accuracy: 0.0000e+00 - loss: 3.2648 - val_accuracy: 0.0000e+00 - val_loss: 1959.6205\n"
     ]
    }
   ],
   "source": [
    "# 모델 학습\n",
    "x_train, y_train = get_train_data_kemp()\n",
    "x_val, y_val = get_train_data_kemp()\n",
    "history = model.fit(\n",
    "    x_train,  # 입력 데이터 (훈련 데이터)\n",
    "    y_train,  # 출력 데이터 (훈련 데이터의 레이블)\n",
    "    # steps_per_epoch=100,\n",
    "    epochs=1,\n",
    "    validation_data=(x_val, y_val)  # 검증 데이터와 검증 레이블\n",
    "    # validation_steps=50\n",
    "    # ,verbose=1\n",
    ")\n"
   ]
  },
  {
   "cell_type": "code",
   "execution_count": 8,
   "metadata": {},
   "outputs": [
    {
     "data": {
      "image/png": "[encoded data removed]",
      "text/plain": [
       "<Figure size 640x480 with 1 Axes>"
      ]
     },
     "metadata": {},
     "output_type": "display_data"
    },
    {
     "name": "stdout",
     "output_type": "stream",
     "text": [
      "100\n"
     ]
    }
   ],
   "source": [
    "from IPython.display import clear_output\n",
    "import pandas as pd\n",
    "import matplotlib.pyplot as plt\n",
    "history_df = pd.DataFrame()\n",
    "for i in range(100):\n",
    "    x_train, y_train = get_train_data_kemp()\n",
    "    x_val, y_val = get_train_data_kemp()\n",
    "    # print(len(history))\n",
    "    if len(history_df) == 50:\n",
    "        history_df.drop(0, inplace=True)\n",
    "        history_df.reset_index(drop=True, inplace=True)\n",
    "    history = model.fit(\n",
    "        x_train,  # 입력 데이터 (훈련 데이터)\n",
    "        y_train,  # 출력 데이터 (훈련 데이터의 레이블)\n",
    "        # steps_per_epoch=100,\n",
    "        epochs=1,\n",
    "        validation_data=(x_val, y_val)  # 검증 데이터와 검증 레이블\n",
    "        # validation_steps=50\n",
    "        ,verbose=0\n",
    "    )\n",
    "    if len(history_df) == 0 :\n",
    "        history_df = pd.DataFrame(history.history)\n",
    "    else :\n",
    "        history_df = pd.concat([history_df,pd.DataFrame(history.history)], axis=0)\n",
    "        history_df.reset_index(drop=True, inplace=True)\n",
    "    \n",
    "    plt.scatter(range(len(history_df)), history_df['val_accuracy'])\n",
    "    plt.scatter(range(len(history_df)), history_df['val_loss'])\n",
    "    plt.show()\n",
    "    print(i+1)\n",
    "    clear_output(wait=True)\n",
    "\n"
   ]
  },
  {
   "cell_type": "code",
   "execution_count": 94,
   "metadata": {},
   "outputs": [
    {
     "name": "stdout",
     "output_type": "stream",
     "text": [
      "    accuracy          loss  val_accuracy      val_loss\n",
      "0        0.0  3.693059e+04           1.0  0.000000e+00\n",
      "1        1.0  0.000000e+00           1.0  0.000000e+00\n",
      "2        0.0  7.696396e+03           1.0  0.000000e+00\n",
      "3        1.0  0.000000e+00           0.0  1.456090e+03\n",
      "4        0.0  1.456090e+03           0.0  1.165945e+03\n",
      "..       ...           ...           ...           ...\n",
      "90       1.0  1.367628e-26           1.0  1.345126e-26\n",
      "91       1.0  0.000000e+00           1.0  1.325076e-26\n",
      "92       1.0  0.000000e+00           1.0  1.307023e-26\n",
      "93       1.0  0.000000e+00           1.0  1.290923e-26\n",
      "94       1.0  1.290923e-26           1.0  1.276531e-26\n",
      "\n",
      "[95 rows x 4 columns]\n"
     ]
    }
   ],
   "source": [
    "\n",
    "history_df.drop(0, inplace=True)\n",
    "history_df.reset_index(drop=True, inplace=True)\n",
    "# history_df.drop('index',axis=1, inplace=True)\n",
    "len(history_df)\n",
    "print(history_df)"
   ]
  },
  {
   "cell_type": "code",
   "execution_count": 58,
   "metadata": {},
   "outputs": [
    {
     "name": "stdout",
     "output_type": "stream",
     "text": [
      "   A   B\n",
      "0  1   4\n",
      "1  2   5\n",
      "2  3   6\n",
      "0  7  10\n",
      "1  8  11\n",
      "2  9  12\n",
      "   A  B  A   B\n",
      "0  1  4  7  10\n",
      "1  2  5  8  11\n",
      "2  3  6  9  12\n"
     ]
    }
   ],
   "source": [
    "import pandas as pd\n",
    "\n",
    "# 예시 DataFrame 두 개\n",
    "df1 = pd.DataFrame({\n",
    "    'A': [1, 2, 3],\n",
    "    'B': [4, 5, 6]\n",
    "})\n",
    "\n",
    "df2 = pd.DataFrame({\n",
    "    'A': [7, 8, 9],\n",
    "    'B': [10, 11, 12]\n",
    "})\n",
    "\n",
    "# 1. 수직으로 결합 (행 추가)\n",
    "df_vertical = pd.concat([df1, df2], axis=0)\n",
    "print(df_vertical)\n",
    "\n",
    "# 2. 수평으로 결합 (열 추가)\n",
    "df_horizontal = pd.concat([df1, df2], axis=1)\n",
    "print(df_horizontal)\n"
   ]
  }
 ],
 "metadata": {
  "kernelspec": {
   "display_name": "Python 3",
   "language": "python",
   "name": "python3"
  },
  "language_info": {
   "codemirror_mode": {
    "name": "ipython",
    "version": 3
   },
   "file_extension": ".py",
   "mimetype": "text/x-python",
   "name": "python",
   "nbconvert_exporter": "python",
   "pygments_lexer": "ipython3",
   "version": "3.12.4"
  }
 },
 "nbformat": 4,
 "nbformat_minor": 2
}
