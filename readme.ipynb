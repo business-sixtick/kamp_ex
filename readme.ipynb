{
 "cells": [
  {
   "cell_type": "code",
   "execution_count": null,
   "metadata": {},
   "outputs": [],
   "source": []
  },
  {
   "cell_type": "markdown",
   "metadata": {},
   "source": [
    "# kamp_ex\n",
    "# 불량 검출 프로젝트\n",
    "## Korea AI Manufacturing Platform(KAMP) Dataset. AI project using OpenCV and Tensorflow \n",
    "***\n",
    "### profile\n",
    "- 작성자 : 조영훈\n",
    "- 연락처 : business4dyd@gmail.com\n",
    "- 소속 : (주)세종교육 0317572650 경기도 성남시 수정구 수정로 167(태평동)\n",
    "- 팀 : AIot 7월반\n",
    "***\n",
    "![image](https://github.com/user-attachments/assets/08bce005-76ae-4c4e-925c-4cd326f22ad4)\n",
    "### 데이터 저작권 \n",
    "- E-mail : kamp@kaist.ac.kr\n",
    "- 중소벤처기업부, Korea AI Manufacturing Platform(KAMP), 품질 이상탐지, 진단(크로메이트) AI 데이터셋, KAIST(㈜에이비에이치, ㈜임픽스), 2021.12.27., www.kamp-ai.kr\n",
    "***\n",
    "### 프로젝트 일정\n",
    "1. [x] github 에 프로젝트 생성 20240821\n",
    "2. [x] 프로젝트 일정 수립 20240821\n",
    "3. [x] 데이터 수집 20240820\n",
    "4. [ ] 데이터 분석 및 전처리 20240821 ~ 20240831\n",
    "5. [ ] AI 학습 및 프로그램 구현 20240901 ~ 20240910\n",
    "6. [ ] 자료정리 및 발표자료 작성 20240911 ~ 20240913\n",
    "7. [ ] 발표 20240919\n",
    "***\n",
    "### summary\n",
    "- 해당 과제는 학원측에서 요구하였기에 진행 하였음\n",
    "- 해당 과제를 수행하여 python기반 opencv와 tensorflow를 익히는 것에 중점을 두었다\n",
    "- 학습 데이터셋은 구하기가 어려워 고르지 않고 처음 얻은 것으로 진행 하였음\n",
    "- 부트 캠프 취지에 맞게 학습 데이터셋은 학원측에서 제공하였으면 하는 아쉬움이 있다\n",
    "***\n",
    "### progress\n",
    "1. github 생성\n",
    "2. 개발환경 구축 및 git 연동\n",
    ">- 개발언어 : python 3.8 (opencv, tensorflow\n",
    ">- 개발도구 : visual studio code\n",
    ">- 개발환경 : window 11 pro 64bit, i7-11700F, RAM 16G, GeForce RTX 3060\n",
    "3. 데이터 분석 및 전처리\n",
    ">- 성격 : 비정형 데이터(이미지), 지도학습(양품과 불량품의 사진이 구분되어 있다), 소량의 지저분한 이미지\n",
    ">- 현장가정 : 직접 현장과 접촉해서 진행하는 것이 아님. 제품 표면 확인가능 방향은 위, 아래 (좌,우) , 정상이미지는 한쪽(왼쪽)만 있다\n",
    "> ![alt text](image.png)\n",
    ">*** \n",
    ">- 불량가정 : 오염 및 양생 불량 두가지가 있다고 가정하였음\n",
    ">\n",
    "> ![alt text](image-1.png)\n",
    ">- 전처리 : 그레이스케일링, 양품 or 불량품 레이블, 특성 추출, 군집 확인\n",
    ">- 시각화 : \n"
   ]
  }
 ],
 "metadata": {
  "language_info": {
   "name": "python"
  }
 },
 "nbformat": 4,
 "nbformat_minor": 2
}
